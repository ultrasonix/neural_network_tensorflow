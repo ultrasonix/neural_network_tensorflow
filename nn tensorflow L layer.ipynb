{
 "cells": [
  {
   "cell_type": "code",
   "execution_count": 119,
   "metadata": {},
   "outputs": [],
   "source": [
    "import math\n",
    "import numpy as np\n",
    "import h5py\n",
    "import matplotlib.pyplot as plt\n",
    "import tensorflow as tf\n",
    "from tensorflow.python.framework import ops\n",
    "\n",
    "%matplotlib inline\n",
    "np.random.seed(1)"
   ]
  },
  {
   "cell_type": "code",
   "execution_count": 120,
   "metadata": {},
   "outputs": [],
   "source": [
    "def load_dataset():\n",
    "\n",
    "    train_dataset = h5py.File('Downloads/train_signs.h5', \"r\")\n",
    "\n",
    "    train_set_x_orig = np.array(train_dataset[\"train_set_x\"][:]) # your train set features\n",
    "\n",
    "    train_set_y_orig = np.array(train_dataset[\"train_set_y\"][:]) # your train set labels\n",
    "\n",
    "\n",
    "\n",
    "    test_dataset = h5py.File('Downloads/test_signs.h5', \"r\")\n",
    "\n",
    "    test_set_x_orig = np.array(test_dataset[\"test_set_x\"][:]) # your test set features\n",
    "\n",
    "    test_set_y_orig = np.array(test_dataset[\"test_set_y\"][:]) # your test set labels\n",
    "\n",
    "\n",
    "\n",
    "    classes = np.array(test_dataset[\"list_classes\"][:]) # the list of classes\n",
    "\n",
    "    \n",
    "\n",
    "    train_set_y_orig = train_set_y_orig.reshape((1, train_set_y_orig.shape[0]))\n",
    "\n",
    "    test_set_y_orig = test_set_y_orig.reshape((1, test_set_y_orig.shape[0]))\n",
    "\n",
    "    \n",
    "\n",
    "    return train_set_x_orig, train_set_y_orig, test_set_x_orig, test_set_y_orig, classes"
   ]
  },
  {
   "cell_type": "code",
   "execution_count": 121,
   "metadata": {
    "scrolled": false
   },
   "outputs": [
    {
     "name": "stdout",
     "output_type": "stream",
     "text": [
      "(1080, 64, 64, 3)\n",
      "(1, 1080)\n",
      "(120, 64, 64, 3)\n",
      "(1, 120)\n",
      "[0 1 2 3 4 5]\n"
     ]
    }
   ],
   "source": [
    "X_train_orig,Y_train_orig,X_test_orig,Y_test_orig,classes = load_dataset()\n",
    "print(X_train_orig.shape)\n",
    "print(Y_train_orig.shape)\n",
    "print(X_test_orig.shape)\n",
    "print(Y_test_orig.shape)\n",
    "print(classes)"
   ]
  },
  {
   "cell_type": "code",
   "execution_count": 122,
   "metadata": {},
   "outputs": [
    {
     "name": "stdout",
     "output_type": "stream",
     "text": [
      "y = 5\n"
     ]
    },
    {
     "data": {
      "image/png": "[encoded data removed]",
      "text/plain": [
       "<matplotlib.figure.Figure at 0x20e817f1d30>"
      ]
     },
     "metadata": {},
     "output_type": "display_data"
    }
   ],
   "source": [
    "index = 0\n",
    "plt.imshow(X_train_orig[index])\n",
    "print (\"y = \" + str(np.squeeze(Y_train_orig[:, index])))"
   ]
  },
  {
   "cell_type": "code",
   "execution_count": 123,
   "metadata": {},
   "outputs": [],
   "source": [
    "def convert_to_one_hot(A,C):\n",
    "    A = np.eye(C)[A.reshape(-1)].T\n",
    "    return A"
   ]
  },
  {
   "cell_type": "code",
   "execution_count": 124,
   "metadata": {},
   "outputs": [
    {
     "name": "stdout",
     "output_type": "stream",
     "text": [
      "number of training examples = 1080\n",
      "number of test examples = 120\n",
      "X_train shape: (12288, 1080)\n",
      "Y_train shape: (6, 1080)\n",
      "X_test shape: (12288, 120)\n",
      "Y_test shape: (6, 120)\n"
     ]
    }
   ],
   "source": [
    "# Flatten the training and test images\n",
    "X_train_flatten = X_train_orig.reshape(X_train_orig.shape[0], -1).T\n",
    "X_test_flatten = X_test_orig.reshape(X_test_orig.shape[0], -1).T\n",
    "# Normalize image vectors\n",
    "X_train = X_train_flatten/255.\n",
    "X_test = X_test_flatten/255.\n",
    "# Convert training and test labels to one hot matrices\n",
    "Y_train = convert_to_one_hot(Y_train_orig, 6)\n",
    "Y_test = convert_to_one_hot(Y_test_orig, 6)\n",
    "\n",
    "print (\"number of training examples = \" + str(X_train.shape[1]))\n",
    "print (\"number of test examples = \" + str(X_test.shape[1]))\n",
    "print (\"X_train shape: \" + str(X_train.shape))\n",
    "print (\"Y_train shape: \" + str(Y_train.shape))\n",
    "print (\"X_test shape: \" + str(X_test.shape))\n",
    "print (\"Y_test shape: \" + str(Y_test.shape))"
   ]
  },
  {
   "cell_type": "code",
   "execution_count": 125,
   "metadata": {},
   "outputs": [],
   "source": [
    "def create_placeholders(nx,ny):\n",
    "    X = tf.placeholder(tf.float32,shape = (nx,None),name = \"X\")\n",
    "    Y = tf.placeholder(tf.float32,shape = (ny,None),name = \"Y\")\n",
    "    return X,Y"
   ]
  },
  {
   "cell_type": "code",
   "execution_count": 126,
   "metadata": {},
   "outputs": [
    {
     "name": "stdout",
     "output_type": "stream",
     "text": [
      "X = Tensor(\"X_1:0\", shape=(12288, ?), dtype=float32)\n",
      "Y = Tensor(\"Y_1:0\", shape=(6, ?), dtype=float32)\n"
     ]
    }
   ],
   "source": [
    "X, Y = create_placeholders(12288, 6)\n",
    "print (\"X = \" + str(X))\n",
    "print (\"Y = \" + str(Y))"
   ]
  },
  {
   "cell_type": "code",
   "execution_count": 130,
   "metadata": {},
   "outputs": [],
   "source": [
    "def initialize_parameters(layer_dims):\n",
    "    num_layer = len(layer_dims)\n",
    "    \n",
    "    parameters = {}\n",
    "    tf.set_random_seed(1)\n",
    "    for i in range(num_layer-1):\n",
    "        parameters[\"W\"+str(i+1)] = tf.get_variable(\"W\"+str(i+1),[layer_dims[i+1],layer_dims[i]],initializer = tf.contrib.layers.xavier_initializer(seed=1))\n",
    "        parameters[\"b\"+str(i+1)] = tf.get_variable(\"b\"+str(i+1),[layer_dims[i+1],1],initializer = tf.zeros_initializer())\n",
    "    \n",
    "    return parameters"
   ]
  },
  {
   "cell_type": "code",
   "execution_count": 131,
   "metadata": {},
   "outputs": [
    {
     "name": "stdout",
     "output_type": "stream",
     "text": [
      "W1 = <tf.Variable 'W1:0' shape=(25, 12288) dtype=float32_ref>\n",
      "b1 = <tf.Variable 'b1:0' shape=(25, 1) dtype=float32_ref>\n",
      "W2 = <tf.Variable 'W2:0' shape=(12, 25) dtype=float32_ref>\n",
      "b2 = <tf.Variable 'b2:0' shape=(12, 1) dtype=float32_ref>\n"
     ]
    }
   ],
   "source": [
    "tf.reset_default_graph()\n",
    "layer_dims = [12288,25,12,6]\n",
    "with tf.Session() as sess:\n",
    "    parameters = initialize_parameters(layer_dims)\n",
    "    print(\"W1 = \" + str(parameters[\"W1\"]))\n",
    "    print(\"b1 = \" + str(parameters[\"b1\"]))\n",
    "    print(\"W2 = \" + str(parameters[\"W2\"]))\n",
    "    print(\"b2 = \" + str(parameters[\"b2\"]))\n",
    "#print(parameters)"
   ]
  },
  {
   "cell_type": "code",
   "execution_count": 132,
   "metadata": {},
   "outputs": [],
   "source": [
    "def forward_propagation(X,parameters):\n",
    "    num_layer = len(parameters)//2\n",
    "    A_prev = X\n",
    "    for i in range(num_layer-1):\n",
    "        Wl = parameters[\"W\"+str(i+1)]\n",
    "        bl = parameters[\"b\"+str(i+1)]\n",
    "        Z = tf.add(tf.matmul(Wl,A_prev),bl)\n",
    "        A = tf.nn.relu(Z)\n",
    "        A_prev = A\n",
    "    \n",
    "    Z = tf.add(tf.matmul(parameters[\"W\"+str(num_layer)],A_prev),parameters[\"b\"+str(num_layer)])\n",
    "    return Z\n",
    "    "
   ]
  },
  {
   "cell_type": "code",
   "execution_count": 133,
   "metadata": {},
   "outputs": [
    {
     "name": "stdout",
     "output_type": "stream",
     "text": [
      "Z3 = Tensor(\"Add_2:0\", shape=(6, ?), dtype=float32)\n"
     ]
    }
   ],
   "source": [
    "\n",
    "tf.reset_default_graph()\n",
    "\n",
    "with tf.Session() as sess:\n",
    "    X, Y = create_placeholders(12288, 6)\n",
    "    parameters = initialize_parameters(layer_dims)\n",
    "    Z3 = forward_propagation(X, parameters)\n",
    "    print(\"Z3 = \" + str(Z3))"
   ]
  },
  {
   "cell_type": "code",
   "execution_count": 134,
   "metadata": {},
   "outputs": [],
   "source": [
    "def compute_cost(Z3,Y):\n",
    "    logits = tf.transpose(Z3)\n",
    "    labels = tf.transpose(Y)\n",
    "    \n",
    "    cost = tf.reduce_mean(tf.nn.softmax_cross_entropy_with_logits(logits=Z3, labels=Y))\n",
    "    return cost"
   ]
  },
  {
   "cell_type": "code",
   "execution_count": 135,
   "metadata": {},
   "outputs": [
    {
     "name": "stdout",
     "output_type": "stream",
     "text": [
      "cost = Tensor(\"Mean:0\", shape=(), dtype=float32)\n"
     ]
    }
   ],
   "source": [
    "tf.reset_default_graph()\n",
    "\n",
    "with tf.Session() as sess:\n",
    "    X, Y = create_placeholders(12288, 6)\n",
    "    parameters = initialize_parameters(layer_dims)\n",
    "    Z3 = forward_propagation(X, parameters)\n",
    "    cost = compute_cost(Z3, Y)\n",
    "    print(\"cost = \" + str(cost))"
   ]
  },
  {
   "cell_type": "code",
   "execution_count": 136,
   "metadata": {},
   "outputs": [],
   "source": [
    "def random_mini_batches(X, Y, mini_batch_size = 64, seed = 0):\n",
    "\n",
    "    \"\"\"\n",
    "\n",
    "    Creates a list of random minibatches from (X, Y)\n",
    "\n",
    "    Arguments:\n",
    "\n",
    "    X -- input data, of shape (input size, number of examples)\n",
    "\n",
    "    Y -- true \"label\" vector (containing 0 if cat, 1 if non-cat), of shape (1, number of examples)\n",
    "\n",
    "    mini_batch_size - size of the mini-batches, integer\n",
    "\n",
    "    seed -- this is only for the purpose of grading, so that you're \"random minibatches are the same as ours.\n",
    "\n",
    "    \n",
    "\n",
    "    Returns:\n",
    "\n",
    "    mini_batches -- list of synchronous (mini_batch_X, mini_batch_Y)\n",
    "\n",
    "    \"\"\"\n",
    "\n",
    "    m = X.shape[1]                  # number of training examples\n",
    "\n",
    "    mini_batches = []\n",
    "\n",
    "    np.random.seed(seed)\n",
    "\n",
    "    \n",
    "    # Step 1: Shuffle (X, Y)\n",
    "\n",
    "    permutation = list(np.random.permutation(m))\n",
    "\n",
    "    shuffled_X = X[:, permutation]\n",
    "\n",
    "    shuffled_Y = Y[:, permutation].reshape((Y.shape[0],m))\n",
    "\n",
    "\n",
    "\n",
    "    # Step 2: Partition (shuffled_X, shuffled_Y). Minus the end case.\n",
    "\n",
    "    num_complete_minibatches = math.floor(m/mini_batch_size) # number of mini batches of size mini_batch_size in your partitionning\n",
    "\n",
    "    for k in range(0, num_complete_minibatches):\n",
    "\n",
    "        mini_batch_X = shuffled_X[:, k * mini_batch_size : k * mini_batch_size + mini_batch_size]\n",
    "\n",
    "        mini_batch_Y = shuffled_Y[:, k * mini_batch_size : k * mini_batch_size + mini_batch_size]\n",
    "\n",
    "        mini_batch = (mini_batch_X, mini_batch_Y)\n",
    "\n",
    "        mini_batches.append(mini_batch)\n",
    "\n",
    "    \n",
    "\n",
    "    # Handling the end case (last mini-batch < mini_batch_size)\n",
    "\n",
    "    if m % mini_batch_size != 0:\n",
    "\n",
    "        mini_batch_X = shuffled_X[:, num_complete_minibatches * mini_batch_size : m]\n",
    "\n",
    "        mini_batch_Y = shuffled_Y[:, num_complete_minibatches * mini_batch_size : m]\n",
    "\n",
    "        mini_batch = (mini_batch_X, mini_batch_Y)\n",
    "\n",
    "        mini_batches.append(mini_batch)\n",
    "\n",
    "    \n",
    "\n",
    "    return mini_batches"
   ]
  },
  {
   "cell_type": "code",
   "execution_count": 140,
   "metadata": {},
   "outputs": [],
   "source": [
    "def model_reg(X_train, Y_train, X_test, Y_test, learning_rate,layer_dims,num_epochs, minibatch_size, print_cost):\n",
    "    \"\"\"\n",
    "    Implements a three-layer tensorflow neural network: LINEAR->RELU->LINEAR->RELU->LINEAR->SOFTMAX.\n",
    "    \n",
    "    Arguments:\n",
    "    X_train -- training set, of shape (input size = 12288, number of training examples = 1080)\n",
    "    Y_train -- test set, of shape (output size = 6, number of training examples = 1080)\n",
    "    X_test -- training set, of shape (input size = 12288, number of training examples = 120)\n",
    "    Y_test -- test set, of shape (output size = 6, number of test examples = 120)\n",
    "    learning_rate -- learning rate of the optimization\n",
    "    num_epochs -- number of epochs of the optimization loop\n",
    "    minibatch_size -- size of a minibatch\n",
    "    print_cost -- True to print the cost every 100 epochs\n",
    "    \n",
    "    Returns:\n",
    "    parameters -- parameters learnt by the model. They can then be used to predict.\n",
    "    \"\"\"\n",
    "    \n",
    "    ops.reset_default_graph()                         # to be able to rerun the model without overwriting tf variables\n",
    "    tf.set_random_seed(1)                             # to keep consistent results\n",
    "    seed = 3                                          # to keep consistent results\n",
    "    (n_x, m) = X_train.shape                          # (n_x: input size, m : number of examples in the train set)\n",
    "    n_y = Y_train.shape[0]                            # n_y : output size\n",
    "    costs = []                                        # To keep track of the cost\n",
    "    \n",
    "    # Create Placeholders of shape (n_x, n_y)\n",
    "    X, Y = create_placeholders(n_x, n_y)\n",
    "\n",
    "    # Initialize parameters\n",
    "    parameters = initialize_parameters(layer_dims)\n",
    "    \n",
    "    # Forward propagation: Build the forward propagation in the tensorflow graph\n",
    "    Z3 = forward_propagation(X, parameters)\n",
    "    \n",
    "    # Cost function: Add cost function to tensorflow graph\n",
    "    cost = compute_cost(tf.transpose(Z3), tf.transpose(Y))\n",
    "    weights=[]\n",
    "    for i in range(len(parameters)//2):\n",
    "        weights.append(parameters[\"W\"+str(i+1)])\n",
    "    regularization_penalty=tf.contrib.layers.apply_regularization(\n",
    "    tf.contrib.layers.l2_regularizer(scale=0.1,scope=None),\n",
    "    weights_list=weights)\n",
    "    \n",
    "    reg_cost=cost+regularization_penalty\n",
    "    # Backpropagation: Define the tensorflow optimizer. Use an AdamOptimizer.\n",
    "    optimizer = tf.train.AdamOptimizer(learning_rate = learning_rate).minimize(reg_cost)\n",
    "    #optimizer = tf.train.GradientDescentOptimizer(learning_rate = learning_rate).minimize(cost)\n",
    "    \n",
    "    # Initialize all the variables\n",
    "    init = tf.global_variables_initializer()\n",
    "\n",
    "    # Start the session to compute the tensorflow graph\n",
    "    with tf.Session() as sess:\n",
    "        \n",
    "        # Run the initialization\n",
    "        sess.run(init)\n",
    "        \n",
    "        # Do the training loop\n",
    "        for epoch in range(num_epochs):\n",
    "\n",
    "            epoch_cost = 0.                       # Defines a cost related to an epoch\n",
    "            num_minibatches = int(m / minibatch_size) # number of minibatches of size minibatch_size in the train set\n",
    "            seed = seed + 1\n",
    "            minibatches = random_mini_batches(X_train, Y_train, minibatch_size, seed)\n",
    "\n",
    "            for minibatch in minibatches:\n",
    "\n",
    "                # Select a minibatch\n",
    "                (minibatch_X, minibatch_Y) = minibatch\n",
    "                \n",
    "                # IMPORTANT: The line that runs the graph on a minibatch.\n",
    "                # Run the session to execute the \"optimizer\" and the \"cost\", the feedict should contain a minibatch for (X,Y).\n",
    "                _ , minibatch_cost = sess.run([optimizer, reg_cost], feed_dict={X: minibatch_X, Y: minibatch_Y})\n",
    "                \n",
    "                epoch_cost += minibatch_cost / num_minibatches\n",
    "\n",
    "            # Print the cost every epoch\n",
    "            if print_cost == True and epoch % 100 == 0:\n",
    "                print (\"Cost after epoch %i: %f\" % (epoch, epoch_cost))\n",
    "            if print_cost == True and epoch % 5 == 0:\n",
    "                costs.append(epoch_cost)\n",
    "                \n",
    "        # plot the cost\n",
    "        plt.plot(np.squeeze(costs))\n",
    "        plt.ylabel('cost')\n",
    "        plt.xlabel('iterations (per tens)')\n",
    "        plt.title(\"Learning rate =\" + str(learning_rate))\n",
    "        plt.show()\n",
    "\n",
    "        # lets save the parameters in a variable\n",
    "        parameters = sess.run(parameters)\n",
    "        print (\"Parameters have been trained!\")\n",
    "\n",
    "        # Calculate the correct predictions\n",
    "        correct_prediction = tf.equal(tf.argmax(Z3), tf.argmax(Y))\n",
    "\n",
    "        # Calculate accuracy on the test set\n",
    "        accuracy = tf.reduce_mean(tf.cast(correct_prediction, \"float\"))\n",
    "\n",
    "        print (\"Train Accuracy:\", accuracy.eval({X: X_train, Y: Y_train}))\n",
    "        print (\"Test Accuracy:\", accuracy.eval({X: X_test, Y: Y_test}))\n",
    "        \n",
    "        return parameters"
   ]
  },
  {
   "cell_type": "code",
   "execution_count": 141,
   "metadata": {},
   "outputs": [],
   "source": [
    "def model(X_train, Y_train, X_test, Y_test, learning_rate,layer_dims,num_epochs, minibatch_size, print_cost):\n",
    "    \"\"\"\n",
    "    Implements a three-layer tensorflow neural network: LINEAR->RELU->LINEAR->RELU->LINEAR->SOFTMAX.\n",
    "    \n",
    "    Arguments:\n",
    "    X_train -- training set, of shape (input size = 12288, number of training examples = 1080)\n",
    "    Y_train -- test set, of shape (output size = 6, number of training examples = 1080)\n",
    "    X_test -- training set, of shape (input size = 12288, number of training examples = 120)\n",
    "    Y_test -- test set, of shape (output size = 6, number of test examples = 120)\n",
    "    learning_rate -- learning rate of the optimization\n",
    "    num_epochs -- number of epochs of the optimization loop\n",
    "    minibatch_size -- size of a minibatch\n",
    "    print_cost -- True to print the cost every 100 epochs\n",
    "    \n",
    "    Returns:\n",
    "    parameters -- parameters learnt by the model. They can then be used to predict.\n",
    "    \"\"\"\n",
    "    \n",
    "    ops.reset_default_graph()                         # to be able to rerun the model without overwriting tf variables\n",
    "    tf.set_random_seed(1)                             # to keep consistent results\n",
    "    seed = 3                                          # to keep consistent results\n",
    "    (n_x, m) = X_train.shape                          # (n_x: input size, m : number of examples in the train set)\n",
    "    n_y = Y_train.shape[0]                            # n_y : output size\n",
    "    costs = []                                        # To keep track of the cost\n",
    "    \n",
    "    # Create Placeholders of shape (n_x, n_y)\n",
    "    X, Y = create_placeholders(n_x, n_y)\n",
    "\n",
    "    # Initialize parameters\n",
    "    parameters = initialize_parameters(layer_dims)\n",
    "    \n",
    "    # Forward propagation: Build the forward propagation in the tensorflow graph\n",
    "    Z3 = forward_propagation(X, parameters)\n",
    "    \n",
    "    # Cost function: Add cost function to tensorflow graph\n",
    "    cost = compute_cost(tf.transpose(Z3), tf.transpose(Y))\n",
    "   \n",
    "    \n",
    "    # Backpropagation: Define the tensorflow optimizer. Use an AdamOptimizer.\n",
    "    optimizer = tf.train.AdamOptimizer(learning_rate = learning_rate).minimize(cost)\n",
    "    #optimizer = tf.train.GradientDescentOptimizer(learning_rate = learning_rate).minimize(cost)\n",
    "    \n",
    "    # Initialize all the variables\n",
    "    init = tf.global_variables_initializer()\n",
    "\n",
    "    # Start the session to compute the tensorflow graph\n",
    "    with tf.Session() as sess:\n",
    "        \n",
    "        # Run the initialization\n",
    "        sess.run(init)\n",
    "        \n",
    "        # Do the training loop\n",
    "        for epoch in range(num_epochs):\n",
    "\n",
    "            epoch_cost = 0.                       # Defines a cost related to an epoch\n",
    "            num_minibatches = int(m / minibatch_size) # number of minibatches of size minibatch_size in the train set\n",
    "            seed = seed + 1\n",
    "            minibatches = random_mini_batches(X_train, Y_train, minibatch_size, seed)\n",
    "\n",
    "            for minibatch in minibatches:\n",
    "\n",
    "                # Select a minibatch\n",
    "                (minibatch_X, minibatch_Y) = minibatch\n",
    "                \n",
    "                # IMPORTANT: The line that runs the graph on a minibatch.\n",
    "                # Run the session to execute the \"optimizer\" and the \"cost\", the feedict should contain a minibatch for (X,Y).\n",
    "                _ , minibatch_cost = sess.run([optimizer, cost], feed_dict={X: minibatch_X, Y: minibatch_Y})\n",
    "                \n",
    "                epoch_cost += minibatch_cost / num_minibatches\n",
    "\n",
    "            # Print the cost every epoch\n",
    "            if print_cost == True and epoch % 100 == 0:\n",
    "                print (\"Cost after epoch %i: %f\" % (epoch, epoch_cost))\n",
    "            if print_cost == True and epoch % 5 == 0:\n",
    "                costs.append(epoch_cost)\n",
    "                \n",
    "        # plot the cost\n",
    "        plt.plot(np.squeeze(costs))\n",
    "        plt.ylabel('cost')\n",
    "        plt.xlabel('iterations (per tens)')\n",
    "        plt.title(\"Learning rate =\" + str(learning_rate))\n",
    "        plt.show()\n",
    "\n",
    "        # lets save the parameters in a variable\n",
    "        parameters = sess.run(parameters)\n",
    "        print (\"Parameters have been trained!\")\n",
    "\n",
    "        # Calculate the correct predictions\n",
    "        correct_prediction = tf.equal(tf.argmax(Z3), tf.argmax(Y))\n",
    "\n",
    "        # Calculate accuracy on the test set\n",
    "        accuracy = tf.reduce_mean(tf.cast(correct_prediction, \"float\"))\n",
    "\n",
    "        print (\"Train Accuracy:\", accuracy.eval({X: X_train, Y: Y_train}))\n",
    "        print (\"Test Accuracy:\", accuracy.eval({X: X_test, Y: Y_test}))\n",
    "        \n",
    "        return parameters"
   ]
  },
  {
   "cell_type": "code",
   "execution_count": 138,
   "metadata": {},
   "outputs": [
    {
     "name": "stdout",
     "output_type": "stream",
     "text": [
      "Cost after epoch 0: 1.855702\n",
      "Cost after epoch 100: 1.016458\n",
      "Cost after epoch 200: 0.733102\n",
      "Cost after epoch 300: 0.572939\n",
      "Cost after epoch 400: 0.468774\n",
      "Cost after epoch 500: 0.381021\n",
      "Cost after epoch 600: 0.313827\n",
      "Cost after epoch 700: 0.254280\n",
      "Cost after epoch 800: 0.203799\n",
      "Cost after epoch 900: 0.166512\n",
      "Cost after epoch 1000: 0.140937\n",
      "Cost after epoch 1100: 0.107750\n",
      "Cost after epoch 1200: 0.086299\n",
      "Cost after epoch 1300: 0.060949\n",
      "Cost after epoch 1400: 0.050934\n"
     ]
    },
    {
     "data": {
      "image/png": "[encoded data removed]",
      "text/plain": [
       "<matplotlib.figure.Figure at 0x20ef655f780>"
      ]
     },
     "metadata": {},
     "output_type": "display_data"
    },
    {
     "name": "stdout",
     "output_type": "stream",
     "text": [
      "Parameters have been trained!\n",
      "Train Accuracy: 0.9990741\n",
      "Test Accuracy: 0.725\n"
     ]
    }
   ],
   "source": [
    "learning_rate = 0.0001\n",
    "num_epochs = 1500\n",
    "minibatch_size = 32\n",
    "print_cost = True\n",
    "parameters = model(X_train, Y_train, X_test, Y_test,learning_rate,layer_dims,num_epochs,minibatch_size,print_cost)"
   ]
  },
  {
   "cell_type": "code",
   "execution_count": 142,
   "metadata": {
    "scrolled": true
   },
   "outputs": [
    {
     "name": "stdout",
     "output_type": "stream",
     "text": [
      "Cost after epoch 0: 5.258243\n",
      "Cost after epoch 100: 1.589872\n",
      "Cost after epoch 200: 1.457183\n",
      "Cost after epoch 300: 1.406864\n",
      "Cost after epoch 400: 1.366702\n",
      "Cost after epoch 500: 1.347315\n",
      "Cost after epoch 600: 1.354865\n",
      "Cost after epoch 700: 1.326144\n",
      "Cost after epoch 800: 1.315168\n",
      "Cost after epoch 900: 1.305169\n",
      "Cost after epoch 1000: 1.301716\n",
      "Cost after epoch 1100: 1.322166\n",
      "Cost after epoch 1200: 1.319363\n",
      "Cost after epoch 1300: 1.296179\n",
      "Cost after epoch 1400: 1.300364\n"
     ]
    },
    {
     "data": {
      "image/png": "[encoded data removed]",
      "text/plain": [
       "<matplotlib.figure.Figure at 0x20e80206828>"
      ]
     },
     "metadata": {},
     "output_type": "display_data"
    },
    {
     "name": "stdout",
     "output_type": "stream",
     "text": [
      "Parameters have been trained!\n",
      "Train Accuracy: 0.8666667\n",
      "Test Accuracy: 0.78333336\n"
     ]
    }
   ],
   "source": [
    "learning_rate = 0.0001\n",
    "num_epochs = 1500\n",
    "minibatch_size = 32\n",
    "print_cost = True\n",
    "parameters = model_reg(X_train, Y_train, X_test, Y_test,learning_rate,layer_dims,num_epochs,minibatch_size,print_cost)"
   ]
  },
  {
   "cell_type": "code",
   "execution_count": 143,
   "metadata": {},
   "outputs": [
    {
     "name": "stdout",
     "output_type": "stream",
     "text": [
      "{'W1': array([[ 9.9408619e-34, -9.3028935e-34, -3.1378536e-34, ...,\n",
      "        -6.6386999e-34,  6.6666123e-34,  4.0960175e-35],\n",
      "       [ 2.7991717e-03,  4.3259687e-03,  5.3161392e-03, ...,\n",
      "         3.7226394e-02,  4.5807235e-02,  4.6501063e-02],\n",
      "       [-5.4445395e-34,  7.7966095e-34,  3.0951540e-34, ...,\n",
      "         4.5335272e-34,  2.1710795e-34,  4.3348512e-34],\n",
      "       ...,\n",
      "       [ 9.5417621e-03,  1.0763531e-02,  1.8397789e-02, ...,\n",
      "         3.0248521e-02,  1.6681550e-02,  2.7146896e-03],\n",
      "       [ 6.8960192e-34,  1.0693938e-33,  3.1596303e-34, ...,\n",
      "         6.7543125e-34,  6.1562494e-34,  5.0763209e-34],\n",
      "       [-4.2002842e-34, -3.9065071e-34,  6.0675198e-34, ...,\n",
      "         1.3867798e-34,  7.3077834e-34,  4.5721576e-35]], dtype=float32), 'b1': array([[-4.0018940e-03],\n",
      "       [ 6.6139917e-03],\n",
      "       [-1.1152878e-03],\n",
      "       [-1.9176495e-03],\n",
      "       [-9.8201330e-04],\n",
      "       [-2.0515269e-03],\n",
      "       [-2.2162315e-03],\n",
      "       [ 1.2268395e-01],\n",
      "       [-2.1658440e-03],\n",
      "       [-2.6926419e-03],\n",
      "       [-1.4143084e-03],\n",
      "       [ 3.1199880e-02],\n",
      "       [-2.0156724e-03],\n",
      "       [-2.9875119e-03],\n",
      "       [-2.6496230e-03],\n",
      "       [-2.1115683e-03],\n",
      "       [-5.8611139e-04],\n",
      "       [-1.4617686e-02],\n",
      "       [-1.4539071e-03],\n",
      "       [-5.4288914e-05],\n",
      "       [-1.2942179e-03],\n",
      "       [-2.4013284e-03],\n",
      "       [ 3.5635699e-02],\n",
      "       [-1.5516850e-03],\n",
      "       [-1.9046490e-03]], dtype=float32), 'W2': array([[-1.27295334e-35,  3.92560425e-34, -1.02239683e-35,\n",
      "         2.30500988e-34, -1.16674996e-33, -3.33886956e-34,\n",
      "         2.92002009e-35, -7.73175899e-34,  4.62554685e-34,\n",
      "        -4.84264597e-34,  2.63007333e-34, -3.30062834e-34,\n",
      "         3.35604469e-35, -1.67979027e-34, -3.96976197e-34,\n",
      "         1.03075300e-36, -4.54152793e-34, -6.82304676e-35,\n",
      "         2.86514212e-34,  9.61894342e-35,  2.94733111e-35,\n",
      "         1.55727896e-34, -2.58082264e-34, -8.10342643e-36,\n",
      "         9.51433189e-34],\n",
      "       [ 4.68972747e-34, -3.45611663e-34, -8.85408243e-34,\n",
      "         1.42677211e-34,  5.40273791e-35, -1.80150800e-34,\n",
      "         2.94959519e-34, -1.02468081e-33,  6.65314053e-34,\n",
      "         1.10177377e-33, -1.44684987e-35, -3.96470826e-34,\n",
      "        -7.63133228e-35, -1.17607585e-33, -4.13086118e-34,\n",
      "         1.60907384e-35,  6.56789698e-34,  7.73016014e-34,\n",
      "         6.49953510e-34,  5.26250959e-34,  1.20137790e-35,\n",
      "        -2.56337642e-34,  1.56306586e-34,  1.81785064e-35,\n",
      "        -9.77212044e-36],\n",
      "       [-7.11152317e-34, -4.79622006e-01, -1.21106683e-35,\n",
      "        -4.46624429e-35, -1.81052475e-34,  3.14146572e-34,\n",
      "        -6.57638350e-34,  4.08689052e-01, -2.95943376e-34,\n",
      "        -5.29830706e-34,  5.29954753e-35,  2.80430347e-01,\n",
      "         2.75204924e-35,  4.31152961e-35, -2.89673491e-34,\n",
      "         8.18278883e-34,  4.05878225e-35, -3.94148082e-01,\n",
      "        -2.08507271e-35, -1.16889654e-34, -9.87838272e-36,\n",
      "        -5.11184496e-36,  1.73745025e-02,  8.19253211e-35,\n",
      "         5.52495799e-34],\n",
      "       [ 2.96194776e-34,  2.86030583e-02,  3.93671020e-35,\n",
      "        -6.54066810e-35,  1.04594670e-33,  3.58591698e-35,\n",
      "         1.91971630e-35, -4.46856856e-01, -4.92150235e-34,\n",
      "        -9.06244156e-38, -9.67731694e-35,  3.59024733e-01,\n",
      "         6.39083218e-37,  1.22287831e-35, -1.47685397e-35,\n",
      "         6.67408729e-37,  2.17385709e-34, -1.56991705e-02,\n",
      "        -1.03913131e-33,  3.55788649e-35,  9.93711864e-34,\n",
      "        -7.61182046e-34, -2.75784940e-01,  3.45322266e-34,\n",
      "        -2.62262404e-35],\n",
      "       [ 4.78212270e-34, -4.15527344e-01,  3.14724234e-35,\n",
      "        -1.02458145e-33, -8.07043797e-35,  1.14011846e-35,\n",
      "         4.09807177e-34,  3.37587327e-01, -7.60837662e-34,\n",
      "         6.25999300e-35,  6.72532575e-35, -7.35683069e-02,\n",
      "         2.77172671e-35,  2.06062805e-34,  2.14087684e-35,\n",
      "        -1.79217545e-34,  2.04548817e-35,  3.62873018e-01,\n",
      "        -1.09534419e-33,  4.36485940e-34,  8.21696633e-34,\n",
      "        -4.08983597e-34, -1.74320415e-01,  1.57817291e-35,\n",
      "        -7.73568220e-34],\n",
      "       [-6.12721058e-34,  3.58603559e-02,  7.06092457e-34,\n",
      "        -2.95981069e-35, -5.46826426e-34,  7.04227921e-34,\n",
      "        -2.70244452e-34, -2.81082839e-01,  8.09582991e-36,\n",
      "        -1.70633509e-36,  5.04880150e-34, -2.05637272e-02,\n",
      "        -1.98557572e-34, -2.08669274e-35, -3.98184620e-35,\n",
      "        -7.77866110e-35,  2.05028852e-34,  3.39742422e-01,\n",
      "         2.23739623e-34,  3.50766412e-34,  3.15438887e-35,\n",
      "         2.20264309e-35,  5.87801456e-01, -2.55029423e-34,\n",
      "        -1.83474717e-34],\n",
      "       [ 1.44609705e-34,  1.09305777e-01,  5.53674737e-34,\n",
      "         1.73066541e-34,  2.87721872e-35, -4.32719674e-35,\n",
      "        -2.25587152e-35,  4.13756281e-01,  1.02910618e-33,\n",
      "         3.65200817e-34, -3.25028206e-35, -1.08612254e-01,\n",
      "         2.30573906e-35, -9.77477736e-34, -3.36360270e-34,\n",
      "        -1.95785564e-34, -2.52329574e-34, -1.63970813e-02,\n",
      "         2.14928036e-35,  1.19168483e-34,  1.89464446e-34,\n",
      "         2.01541348e-35,  6.37344360e-01, -4.59950133e-35,\n",
      "        -5.13956528e-34],\n",
      "       [-5.74942736e-34,  7.81515572e-34,  4.16040569e-35,\n",
      "        -2.93731731e-35,  6.70494998e-34,  2.65858940e-35,\n",
      "        -5.04777111e-34,  1.12957970e-34,  3.88013466e-34,\n",
      "        -1.14123218e-33, -1.70515070e-35,  1.31509320e-35,\n",
      "        -6.15635320e-34, -8.80789927e-34,  2.44238568e-35,\n",
      "        -2.84455111e-35, -2.55175975e-35,  5.81767950e-34,\n",
      "        -3.68439849e-35, -5.04043850e-34, -2.60877094e-34,\n",
      "        -3.72537262e-35,  4.66501270e-34,  1.17116947e-36,\n",
      "         3.38935016e-34],\n",
      "       [-5.98266472e-34,  5.02587378e-01, -3.80287202e-35,\n",
      "        -6.97480893e-35, -1.89673498e-34, -4.61225780e-34,\n",
      "         8.14047574e-35, -5.41658700e-02,  3.78900836e-34,\n",
      "        -3.25580281e-35,  1.21415319e-34,  1.03626214e-01,\n",
      "        -1.26036786e-35, -8.67752685e-35,  7.24148257e-35,\n",
      "         1.97995895e-36,  1.17947772e-35, -2.14339644e-01,\n",
      "        -5.68720640e-35, -3.93070043e-35,  6.29467077e-34,\n",
      "         1.09437204e-36, -3.90039802e-01,  3.94050226e-34,\n",
      "         3.99704171e-34],\n",
      "       [-6.60736375e-34,  4.16581869e-01,  4.27294435e-35,\n",
      "        -3.76683078e-34, -3.50655819e-34,  2.50133747e-35,\n",
      "         3.50671833e-36,  4.56123561e-01, -7.08939357e-34,\n",
      "         1.13253061e-34, -7.96390535e-35, -2.11824507e-01,\n",
      "         5.81506724e-35, -2.99527698e-35, -1.10319399e-36,\n",
      "         1.28513216e-35,  8.22506622e-34,  2.79796124e-01,\n",
      "         8.30889274e-34, -2.90009810e-35, -1.45651585e-35,\n",
      "        -3.21406501e-35, -3.36302131e-01, -4.44248611e-34,\n",
      "         2.18028075e-34],\n",
      "       [-3.58740615e-35, -7.34643194e-34, -5.56952151e-36,\n",
      "        -3.04459638e-36,  4.58064894e-34, -1.10993841e-33,\n",
      "         1.44015392e-35, -2.54161221e-35, -4.44926420e-35,\n",
      "         3.63332389e-35,  6.84055428e-34, -3.01460692e-35,\n",
      "        -3.19589765e-35,  7.56583521e-34, -1.47184348e-35,\n",
      "         2.23215156e-35,  6.00675891e-36,  4.69133183e-34,\n",
      "         7.44405721e-34,  9.02428391e-34, -1.14056646e-33,\n",
      "        -1.21209367e-35, -6.64338530e-34, -1.32144650e-35,\n",
      "        -1.11492921e-33],\n",
      "       [ 7.09478891e-34,  1.11871399e-01,  7.67798988e-36,\n",
      "         6.12283049e-34, -1.14608776e-35,  1.00680825e-33,\n",
      "         1.00168305e-35, -1.86322197e-01,  3.49255420e-34,\n",
      "        -3.98535656e-34,  2.09302365e-35, -3.34370770e-02,\n",
      "        -2.67109900e-34,  5.76129526e-34, -3.75682301e-34,\n",
      "         3.22266196e-35,  2.99929278e-35,  4.13139582e-01,\n",
      "         5.99041472e-34,  1.01729600e-34,  3.12325130e-34,\n",
      "         1.50656200e-34, -1.44104347e-01, -4.14632168e-34,\n",
      "         6.38792501e-36]], dtype=float32), 'b2': array([[-5.6058763e-10],\n",
      "       [-7.9031786e-05],\n",
      "       [ 1.6124465e-01],\n",
      "       [ 9.0231910e-02],\n",
      "       [ 9.1303680e-03],\n",
      "       [ 5.4649279e-02],\n",
      "       [ 1.8497989e-01],\n",
      "       [-1.0566567e-04],\n",
      "       [ 1.0249903e-01],\n",
      "       [ 1.0484495e-01],\n",
      "       [-6.0054363e-04],\n",
      "       [-3.2905616e-02]], dtype=float32), 'W3': array([[-2.9425066e-35, -4.5765375e-34, -5.7474667e-01, -1.3740823e-01,\n",
      "         4.7995482e-02,  5.3901190e-01,  2.1498735e-01,  6.1458637e-34,\n",
      "        -2.1334605e-01,  8.8594466e-02,  3.1027188e-35,  3.0256510e-01],\n",
      "       [ 4.5835860e-35, -4.3066844e-34,  4.8771951e-02,  5.0227141e-01,\n",
      "        -2.2098782e-02, -9.9534057e-02, -5.5478424e-01,  2.7448195e-37,\n",
      "         1.0872812e-01, -3.4449688e-01, -8.0350586e-34,  9.8282352e-02],\n",
      "       [ 3.3524791e-34,  1.9170531e-34, -3.2528102e-01,  1.4883812e-01,\n",
      "        -1.9226259e-01, -2.3357925e-01, -2.3688047e-01, -1.3315148e-34,\n",
      "         4.5801085e-01,  3.8176054e-01,  5.8826187e-34,  1.3482806e-01],\n",
      "       [-2.0546631e-35,  9.6609950e-34,  2.7562279e-01, -3.7801884e-02,\n",
      "        -2.9646462e-01,  2.6638398e-01,  3.5156229e-01,  8.5713779e-34,\n",
      "        -1.9392154e-01, -5.2839023e-01,  5.7853525e-34, -2.7663618e-01],\n",
      "       [ 3.3843074e-35, -9.1907109e-34,  1.8517305e-01, -2.4718775e-01,\n",
      "        -1.2044598e-01, -2.7763090e-01,  2.5359428e-01,  4.2197354e-35,\n",
      "         2.2032489e-01,  2.5879496e-01, -8.3937712e-35, -2.2790791e-01],\n",
      "       [-8.8933753e-36, -1.0191407e-33,  3.8636401e-01, -2.5276861e-01,\n",
      "         5.7805717e-01, -2.1439432e-01,  4.2806908e-02,  2.8447563e-34,\n",
      "        -3.8303602e-01,  1.1262567e-01, -3.8735257e-35, -3.7296459e-02]],\n",
      "      dtype=float32), 'b3': array([[-0.21163562],\n",
      "       [-0.00270116],\n",
      "       [ 0.03764177],\n",
      "       [ 0.15557559],\n",
      "       [ 0.12352476],\n",
      "       [-0.12514924]], dtype=float32)}\n"
     ]
    }
   ],
   "source": [
    "print(parameters)"
   ]
  },
  {
   "cell_type": "code",
   "execution_count": 144,
   "metadata": {},
   "outputs": [],
   "source": [
    "def predict(X,parameters):\n",
    "    params={}\n",
    "    for i in range(len(parameters)//2):\n",
    "        params[\"W\"+str(i+1)]=tf.convert_to_tensor(parameters[\"W\"+str(i+1)])\n",
    "        params[\"b\"+str(i+1)]=tf.convert_to_tensor(parameters[\"b\"+str(i+1)])\n",
    "        \n",
    "    x = tf.placeholder(\"float\", [X.shape[0], 1])\n",
    "    z3 = forward_propagation(x, params)\n",
    "\n",
    "    p = tf.argmax(z3)\n",
    "    with tf.Session() as sess:\n",
    "\n",
    "        prediction = sess.run(p, feed_dict = {x: X})\n",
    "\n",
    "    return prediction    "
   ]
  },
  {
   "cell_type": "code",
   "execution_count": 164,
   "metadata": {},
   "outputs": [
    {
     "name": "stderr",
     "output_type": "stream",
     "text": [
      "c:\\python36\\lib\\site-packages\\skimage\\transform\\_warps.py:84: UserWarning: The default mode, 'constant', will be changed to 'reflect' in skimage 0.15.\n",
      "  warn(\"The default mode, 'constant', will be changed to 'reflect' in \"\n"
     ]
    },
    {
     "name": "stdout",
     "output_type": "stream",
     "text": [
      "Your algorithm predicts: y = 1\n"
     ]
    },
    {
     "data": {
      "image/png": "[encoded data removed]",
      "text/plain": [
       "<matplotlib.figure.Figure at 0x20e815890f0>"
      ]
     },
     "metadata": {},
     "output_type": "display_data"
    }
   ],
   "source": [
    "import scipy\n",
    "from PIL import Image\n",
    "import skimage.transform\n",
    "from scipy import ndimage\n",
    "\n",
    "my_image = \"one.jpg\"\n",
    "\n",
    "# We preprocess your image to fit your algorithm.\n",
    "fname = \"Downloads/\" + my_image\n",
    "image = np.array(plt.imread(fname))\n",
    "my_image = skimage.transform.resize(image, (64,64)).reshape((1, 64*64*3)).T\n",
    "my_image_prediction = predict(my_image, parameters)\n",
    "\n",
    "plt.imshow(image)\n",
    "print(\"Your algorithm predicts: y = \" + str(np.squeeze(my_image_prediction)))"
   ]
  },
  {
   "cell_type": "code",
   "execution_count": null,
   "metadata": {},
   "outputs": [],
   "source": []
  }
 ],
 "metadata": {
  "kernelspec": {
   "display_name": "Python 3",
   "language": "python",
   "name": "python3"
  },
  "language_info": {
   "codemirror_mode": {
    "name": "ipython",
    "version": 3
   },
   "file_extension": ".py",
   "mimetype": "text/x-python",
   "name": "python",
   "nbconvert_exporter": "python",
   "pygments_lexer": "ipython3",
   "version": "3.6.4"
  }
 },
 "nbformat": 4,
 "nbformat_minor": 2
}
